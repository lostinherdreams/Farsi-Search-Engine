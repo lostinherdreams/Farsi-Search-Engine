{
 "cells": [
  {
   "cell_type": "code",
   "execution_count": 10,
   "metadata": {},
   "outputs": [],
   "source": [
    "import import_ipynb\n",
    "from IndexStructure import PostingsList\n",
    "from Preprocessing import content, tokenizer, data\n",
    "from tqdm import tqdm\n",
    "import pickle\n"
   ]
  },
  {
   "cell_type": "markdown",
   "metadata": {},
   "source": [
    "## Read files "
   ]
  },
  {
   "cell_type": "code",
   "execution_count": 11,
   "metadata": {},
   "outputs": [],
   "source": [
    "N = len(list(data.values()))"
   ]
  },
  {
   "cell_type": "code",
   "execution_count": 12,
   "metadata": {},
   "outputs": [],
   "source": [
    "def build_index(content):\n",
    "    index = PostingsList()\n",
    "    for doc_id, text in tqdm(content.items(), desc=\"Indexing documents\"):\n",
    "        tokens = tokenizer(text)\n",
    "        for position, word in enumerate(tokens):\n",
    "            index.add(word, doc_id, position)\n",
    "\n",
    "    stop_words = index.find_word_with_most_freq_and_del()\n",
    "    index.calcute_norm_weight()\n",
    "    index.create_champion_list(20)\n",
    "    \n",
    "    return index "
   ]
  },
  {
   "cell_type": "code",
   "execution_count": 13,
   "metadata": {},
   "outputs": [],
   "source": [
    "def save_index(index, path='Index.pickle'):\n",
    "    with open(path, 'wb') as file:\n",
    "        pickle.dump(index, file)"
   ]
  },
  {
   "cell_type": "code",
   "execution_count": 14,
   "metadata": {},
   "outputs": [],
   "source": [
    "def load_index(path='Index.pickle'):\n",
    "    with open(path, 'rb') as file:\n",
    "        return pickle.load(file)"
   ]
  },
  {
   "cell_type": "code",
   "execution_count": 15,
   "metadata": {},
   "outputs": [],
   "source": [
    "# index = build_index(content)\n",
    "# save_index(index)"
   ]
  }
 ],
 "metadata": {
  "kernelspec": {
   "display_name": "Python 3",
   "language": "python",
   "name": "python3"
  },
  "language_info": {
   "codemirror_mode": {
    "name": "ipython",
    "version": 3
   },
   "file_extension": ".py",
   "mimetype": "text/x-python",
   "name": "python",
   "nbconvert_exporter": "python",
   "pygments_lexer": "ipython3",
   "version": "3.10.6"
  }
 },
 "nbformat": 4,
 "nbformat_minor": 2
}
