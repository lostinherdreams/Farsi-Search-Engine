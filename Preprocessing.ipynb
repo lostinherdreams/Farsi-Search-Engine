{
 "cells": [
  {
   "cell_type": "code",
   "execution_count": 1,
   "metadata": {},
   "outputs": [],
   "source": [
    "import re\n",
    "import json\n",
    "from parsivar import FindStems"
   ]
  },
  {
   "cell_type": "markdown",
   "metadata": {},
   "source": [
    "## Read files (only for test)"
   ]
  },
  {
   "cell_type": "code",
   "execution_count": 2,
   "metadata": {},
   "outputs": [],
   "source": [
    "def read_json(path):\n",
    "    with open(path, 'r') as file:\n",
    "        return json.load(file)"
   ]
  },
  {
   "cell_type": "code",
   "execution_count": 3,
   "metadata": {},
   "outputs": [],
   "source": [
    "data = read_json(\"IR_data_news_12k.json\")"
   ]
  },
  {
   "cell_type": "code",
   "execution_count": 4,
   "metadata": {},
   "outputs": [],
   "source": [
    "content , url , title  = {} , {} , {} \n",
    "\n",
    "for i, item in data.items():\n",
    "    content[i] = item.get('content')\n",
    "    url[i] = item.get('url')\n",
    "    title[i] = item.get('title')\n",
    "    "
   ]
  },
  {
   "cell_type": "markdown",
   "metadata": {},
   "source": [
    "## Normalizing"
   ]
  },
  {
   "cell_type": "markdown",
   "metadata": {},
   "source": [
    "### 1. Replace special tokens with placeholders(Email and ID)"
   ]
  },
  {
   "cell_type": "code",
   "execution_count": 5,
   "metadata": {},
   "outputs": [],
   "source": [
    "def extract_special_tokens(string):\n",
    "    emails = re.findall(r'[a-zA-Z0-9._%+-]+@[a-zA-Z0-9.-]+\\.[a-zA-Z]{2,}', string)\n",
    "    ids = re.findall(r'@[a-zA-Z0-9_]+', string)\n",
    "    if ids.count('gmail')> 0:\n",
    "        ids.remove('@gmail')\n",
    "    return emails, ids"
   ]
  },
  {
   "cell_type": "code",
   "execution_count": 6,
   "metadata": {},
   "outputs": [],
   "source": [
    "def replace_special_tokens(string, emails, ids):\n",
    "    for i, email in enumerate(emails):\n",
    "        string = string.replace(email, f\"__EMAIL_{i}__\")\n",
    "    for i, user_id in enumerate(ids):\n",
    "        string = string.replace(user_id, f\"__ID_{i}__\")\n",
    "    return string\n",
    "\n",
    "def restore_special_tokens(string, emails, ids):\n",
    "    for i, email in enumerate(emails):\n",
    "        string = string.replace(f\"__EMAIL_{i}__\", email)\n",
    "    for i, user_id in enumerate(ids):\n",
    "        string = string.replace(f\"__ID_{i}__\", user_id)\n",
    "    \n",
    "    string = list(string)\n",
    "    index = 0\n",
    "    for char in string:\n",
    "        if char== '_':\n",
    "            string[index] = ' '\n",
    "        index += 1\n",
    "    string = \"\".join(string)\n",
    "    return string"
   ]
  },
  {
   "cell_type": "code",
   "execution_count": 7,
   "metadata": {},
   "outputs": [
    {
     "name": "stdout",
     "output_type": "stream",
     "text": [
      "(['example123@gmail.com'], ['@gmail', '@user_name123'])\n",
      "ایمیل من __EMAIL_0__ است و آیدی من __ID_1__.\n",
      "ایمیل من example123@gmail.com است و آیدی من @user name123.\n"
     ]
    }
   ],
   "source": [
    "text = \"ایمیل من example123@gmail.com است و آیدی من @user_name123.\"\n",
    "result = extract_special_tokens(text)\n",
    "print(result)\n",
    "result = replace_special_tokens(text , result[0] , result[1])\n",
    "print(result)\n",
    "result = restore_special_tokens(text , result[0] , result[1])\n",
    "print(result)"
   ]
  },
  {
   "cell_type": "markdown",
   "metadata": {},
   "source": [
    "### 2. Punctuation removal"
   ]
  },
  {
   "cell_type": "code",
   "execution_count": 8,
   "metadata": {},
   "outputs": [],
   "source": [
    "def remove_punctoations(string):\n",
    "    punctoations = ['@', '#', '$', '%', '^', '*', '(', ')', '-', '=', '+', '[', ']', '{', '}', ';', ':', ',', '.',\n",
    "            '?', '/', '>', '<', '،', '«', '»', '؛', '؟', '\"', '!', '!', '!', '\"', \"'\"]\n",
    "\n",
    "    string = list(string)\n",
    "    index = 0\n",
    "    for char in string:\n",
    "        if char in punctoations:\n",
    "            string[index] = ' '\n",
    "        index += 1\n",
    "    string = \"\".join(string)\n",
    "\n",
    "    return string"
   ]
  },
  {
   "cell_type": "code",
   "execution_count": 9,
   "metadata": {},
   "outputs": [
    {
     "name": "stdout",
     "output_type": "stream",
     "text": [
      "\n",
      "به گزارش خبرگزاری فارس، سید حمید سجادی در حاشیه مراسم گرامیداشت روز جوان در جمع خبرنگاران در رابطه با عرضه سهام سرخابی‌ها در بورس اظهار داشت: منتظر طی روند هستیم و بعدا اطلاع رسانی خواهیم کرد. وی در مورد حضور تماشاگران در مسابقات فوتبال اظهار داشت: حضور تماشاگران در  لیگ برتر فوتبال تابع نظر فدراسیون ،سازمان لیگ و ستاد ملی مبارزه با کرونا است. انتهای پیام/\n",
      "\n",
      "\n",
      "\n",
      "\n",
      "به گزارش خبرگزاری فارس  سید حمید سجادی در حاشیه مراسم گرامیداشت روز جوان در جمع خبرنگاران در رابطه با عرضه سهام سرخابی‌ها در بورس اظهار داشت  منتظر طی روند هستیم و بعدا اطلاع رسانی خواهیم کرد  وی در مورد حضور تماشاگران در مسابقات فوتبال اظهار داشت  حضور تماشاگران در  لیگ برتر فوتبال تابع نظر فدراسیون  سازمان لیگ و ستاد ملی مبارزه با کرونا است  انتهای پیام \n",
      "\n",
      "\n",
      "\n"
     ]
    }
   ],
   "source": [
    "print(list(content.values())[1])\n",
    "txt = remove_punctoations(list(content.values())[1])\n",
    "print(txt)"
   ]
  },
  {
   "cell_type": "markdown",
   "metadata": {},
   "source": [
    "### 3. Unicode and number replacements"
   ]
  },
  {
   "cell_type": "code",
   "execution_count": 10,
   "metadata": {},
   "outputs": [],
   "source": [
    "def change_unicode(string):\n",
    "    substitutions = {\n",
    "        # Numbers\n",
    "        r'(?<!__)0(?!__)': '۰',\n",
    "        r'(?<!__)1(?!__)': '۱',\n",
    "        r'(?<!__)2(?!__)': '۲',\n",
    "        r'(?<!__)3(?!__)': '۳',\n",
    "        r'(?<!__)4(?!__)': '۴',\n",
    "        r'(?<!__)5(?!__)': '۵',\n",
    "        r'(?<!__)6(?!__)': '۶',\n",
    "        r'(?<!__)7(?!__)': '۷',\n",
    "        r'(?<!__)8(?!__)': '۸',\n",
    "        r'(?<!__)9(?!__)': '۹',\n",
    "        # Arabic and Persian character variations\n",
    "        r'ﻲ|ﯾ|ﯿ|ي': 'ی',\n",
    "        r'ﻚ|ﮏ|ﻛ|ﮑ|ﮐ|ك': 'ک',\n",
    "        r'ء|ې|ێ': 'ی',\n",
    "        r'ٲ|ٱ|إ|ﺍ|أ|آ': 'ا',\n",
    "        r'ﺆ|ۊ|ۇ|ۉ|ﻮ|ؤ': 'و',\n",
    "        r\"[ًٌٍَُِّْ]\":'',\n",
    "        r'ّ': '',  # Remove tashdid\n",
    "        # Special symbols and phrases\n",
    "        r'﷽': 'بسم االله الرحمن الرحیم',\n",
    "        # Common substitutions\n",
    "        r'طهران': 'تهران',\n",
    "        r'گفت‌وگو|گفت و گو|گفت‌و‌گو': 'گفتگو',\n",
    "        r'جست‌وجو|جست و جو|جست‌و‌جو': 'جستجو',\n",
    "        r'طوس': 'توس',\n",
    "        r'دشک': 'تشک',\n",
    "        r'﷼': r'ریال',\n",
    "        r'باطری': 'باتری',\n",
    "        r'توفان': 'طوفان',\n",
    "        r'بلیط': 'بلیت',\n",
    "        r'ﷴ': 'محمد',\n",
    "\n",
    "        # English to Persian\n",
    "        r'FIFA': 'فیفا',\n",
    "    }\n",
    "    \n",
    "    # Apply all substitutions\n",
    "    for pattern, replacement in substitutions.items():\n",
    "        string = re.sub(pattern, replacement, string)\n",
    "    \n",
    "    return string\n"
   ]
  },
  {
   "cell_type": "code",
   "execution_count": 11,
   "metadata": {},
   "outputs": [
    {
     "name": "stdout",
     "output_type": "stream",
     "text": [
      "ی ۱۲۳ تهران گفتگو بسم االله الرحمن الرحیم تشک فیفا\n"
     ]
    }
   ],
   "source": [
    "txt =\"ﻲ 123 طهران گفت‌وگو ﷽ دشک FIFA\"\n",
    "txt = change_unicode(txt)\n",
    "print(txt)"
   ]
  },
  {
   "cell_type": "markdown",
   "metadata": {},
   "source": [
    "### 4. Half-space transformations"
   ]
  },
  {
   "cell_type": "code",
   "execution_count": 12,
   "metadata": {},
   "outputs": [],
   "source": [
    "def transform_space_to_half_space(string):\n",
    "    patterns = [\n",
    "        (r'^(می|نمی)( )', r'\\1‌'),  # Prefix \"می\" or \"نمی\" at the beginning of the string\n",
    "        (r'( )(می|نمی)( )', r'\\1\\2‌'),  # Prefix \"می\" or \"نمی\" within the string\n",
    "        (r'( )(های|ها|هایی|ی|ای|تر|تری|ترین|گر|گری|ام|ات|اش)( )', r'‌\\2\\3'),  # Common Persian suffixes\n",
    "        (r'( )(شده|نشده)', r'‌\\2'),\n",
    "        (r'( )(خواهیم|نمی‌خواهیم|می‌خواهند|نمی‌خواهند|می‌خواهید|نمی‌خواهید|می‌خواهیم|نمی‌خواهیم|می‌خواهی|نمی‌خواهی|می‌خواهد|نمی‌خواهد|می‌خواهم|نمی‌خواهم)( )', r'‌\\2‌'),  # Complex verb forms\n",
    "    ]\n",
    "    \n",
    "    result = string\n",
    "    for pattern, replacement in patterns:\n",
    "        result = re.sub(pattern, replacement, result)\n",
    "    \n",
    "    return result"
   ]
  },
  {
   "cell_type": "code",
   "execution_count": 13,
   "metadata": {},
   "outputs": [
    {
     "name": "stdout",
     "output_type": "stream",
     "text": [
      "\n",
      "به گزارش خبرگزاری فارس، سید حمید سجادی در حاشیه مراسم گرامیداشت روز جوان در جمع خبرنگاران در رابطه با عرضه سهام سرخابی‌ها در بورس اظهار داشت: منتظر طی روند هستیم و بعدا اطلاع رسانی خواهیم کرد. وی در مورد حضور تماشاگران در مسابقات فوتبال اظهار داشت: حضور تماشاگران در  لیگ برتر فوتبال تابع نظر فدراسیون ،سازمان لیگ و ستاد ملی مبارزه با کرونا است. انتهای پیام/\n",
      "\n",
      "\n",
      "\n",
      "\n",
      "به گزارش خبرگزاری فارس، سید حمید سجادی در حاشیه مراسم گرامیداشت روز جوان در جمع خبرنگاران در رابطه با عرضه سهام سرخابی‌ها در بورس اظهار داشت: منتظر طی روند هستیم و بعدا اطلاع رسانی‌خواهیم‌کرد. وی در مورد حضور تماشاگران در مسابقات فوتبال اظهار داشت: حضور تماشاگران در  لیگ برتر فوتبال تابع نظر فدراسیون ،سازمان لیگ و ستاد ملی مبارزه با کرونا است. انتهای پیام/\n",
      "\n",
      "\n",
      "\n"
     ]
    }
   ],
   "source": [
    "i = 1\n",
    "print(list(content.values())[i])\n",
    "txt = transform_space_to_half_space(list(content.values())[i])\n",
    "print(txt)"
   ]
  },
  {
   "cell_type": "markdown",
   "metadata": {},
   "source": [
    "### 5. Separate numbers from text"
   ]
  },
  {
   "cell_type": "code",
   "execution_count": 14,
   "metadata": {},
   "outputs": [],
   "source": [
    "def separate_numbers(string):\n",
    "    find1 = r'([0-9۰-۹]+)'\n",
    "    replace1 = r' \\1 '\n",
    "    result1 = re.sub(find1, replace1, string)\n",
    "    return result1"
   ]
  },
  {
   "cell_type": "code",
   "execution_count": 15,
   "metadata": {},
   "outputs": [
    {
     "name": "stdout",
     "output_type": "stream",
     "text": [
      "I have 5  books and ۳  notebooks.\n"
     ]
    }
   ],
   "source": [
    "txt = text = \"I have5 books and۳ notebooks.\"\n",
    "txt = separate_numbers(txt)\n",
    "print(txt)"
   ]
  },
  {
   "cell_type": "markdown",
   "metadata": {},
   "source": [
    "### 6. Stemming "
   ]
  },
  {
   "cell_type": "code",
   "execution_count": 16,
   "metadata": {},
   "outputs": [],
   "source": [
    "def stemming(string):\n",
    "    \n",
    "    string = list(string)\n",
    "    index = 0\n",
    "    for char in string:\n",
    "        if char == '&':\n",
    "            string[index] = ' '\n",
    "        index += 1\n",
    "    string = \"\".join(string)\n",
    "\n",
    "    stemmer = FindStems()\n",
    "    strings = string.split()\n",
    "\n",
    "    index = 0\n",
    "    for word in strings:\n",
    "        if word == 'است': \n",
    "            continue\n",
    "        strings[index] = stemmer.convert_to_stem(word)\n",
    "        index += 1\n",
    "    string = \" \".join(strings)\n",
    "    return string"
   ]
  },
  {
   "cell_type": "code",
   "execution_count": 17,
   "metadata": {},
   "outputs": [
    {
     "name": "stdout",
     "output_type": "stream",
     "text": [
      "\n",
      "به گزارش خبرگزاری فارس، کنفدراسیون فوتبال آسیا (AFC) در نامه ای رسمی به فدراسیون فوتبال ایران و باشگاه گیتی پسند زمان  قرعه کشی جام باشگاه های فوتسال آسیا را رسماً اعلام کرد. بر این اساس 25 فروردین ماه 1401 مراسم قرعه کشی جام باشگاه های فوتسال آسیا در مالزی برگزار می شود. باشگاه گیتی پسند بعنوان قهرمان فوتسال ایران در سال 1400 به این مسابقات راه پیدا کرده است. پیش از این گیتی پسند تجربه 3 دوره حضور در جام باشگاه های فوتسال آسیا را داشته که هر سه دوره به فینال مسابقات راه پیدا کرده و یک عنوان قهرمانی و دو مقام دومی بدست آورده است. انتهای پیام/\n",
      "\n",
      "\n",
      "\n",
      "به گزارش خبرگزاری فارس، کنفدراسیون فوتبال آسیا (AFC) در نامه ای رسمی به فدراسیون فوتبال ایران و باشگاه گیتی پسند زمان قرعه کشید&کش جام باشگاه های فوتسال آسیا را رسماً اعلام کرد. بر این اساس 25 فروردین ماه 1401 مراسم قرعه کشید&کش جام باشگاه های فوتسال آسیا در مالزی برگزار می شود. باشگاه گیتی پسند بعنوان قهرمان فوتسال ایران در سال 1400 به این مسابقات راه پیدا کرده است. پیش از این گیتی پسند تجربه 3 دوره حضور در جام باشگاه های فوتسال آسیا را داشته که هر سه دوره به فینال مسابقات راه پیدا کرده و یک عنوان قهرمانی و دو مقام دومی بدست آورده است. انتهای پیام/\n"
     ]
    }
   ],
   "source": [
    "i = 0\n",
    "print(list(content.values())[i])\n",
    "txt = stemming(list(content.values())[i])\n",
    "print(txt)"
   ]
  },
  {
   "cell_type": "markdown",
   "metadata": {},
   "source": [
    "## Normalizer"
   ]
  },
  {
   "cell_type": "code",
   "execution_count": 18,
   "metadata": {},
   "outputs": [],
   "source": [
    "def normalizer(string):\n",
    "    emails, ids = extract_special_tokens(string)\n",
    "    string = replace_special_tokens(string, emails, ids)\n",
    "    string = remove_punctoations(string)\n",
    "    string = change_unicode(string)\n",
    "    string = transform_space_to_half_space(string)\n",
    "    string = stemming(string)\n",
    "    string = separate_numbers(string)\n",
    "    string = restore_special_tokens(string, emails, ids)\n",
    "\n",
    "    return string"
   ]
  },
  {
   "cell_type": "code",
   "execution_count": 19,
   "metadata": {},
   "outputs": [
    {
     "name": "stdout",
     "output_type": "stream",
     "text": [
      "\n",
      "به گزارش خبرگزاری فارس، کنفدراسیون فوتبال آسیا (AFC) در نامه ای رسمی به فدراسیون فوتبال ایران و باشگاه گیتی پسند زمان  قرعه کشی جام باشگاه های فوتسال آسیا را رسماً اعلام کرد. بر این اساس 25 فروردین ماه 1401 مراسم قرعه کشی جام باشگاه های فوتسال آسیا در مالزی برگزار می شود. باشگاه گیتی پسند بعنوان قهرمان فوتسال ایران در سال 1400 به این مسابقات راه پیدا کرده است. پیش از این گیتی پسند تجربه 3 دوره حضور در جام باشگاه های فوتسال آسیا را داشته که هر سه دوره به فینال مسابقات راه پیدا کرده و یک عنوان قهرمانی و دو مقام دومی بدست آورده است. انتهای پیام/\n",
      "\n",
      "\n",
      "\n",
      "به گزارش خبرگزاری فارس کنفدراسیون فوتبال اسیا AFC در نامه رسمی به فدراسیون فوتبال ایران و باشگاه گیتی پسند زمان قرعه کشید&کش جام باشگاه فوتسال اسیا را رسما اعلام کرد بر این اساس  ۲۵  فروردین ماه  ۱۴۰۱  مراسم قرعه کشید&کش جام باشگاه فوتسال اسیا در مالزی برگزار شد&شو باشگاه گیتی پسند بعنوان قهرمان فوتسال ایران در سال  ۱۴۰۰  به این مسابقات راه پیدا کرده پیش از این گیتی پسند تجربه  ۳  دوره حضور در جام باشگاه فوتسال اسیا را داشته که هر سه دوره به فینال مسابقات راه پیدا کرده و یک عنوان قهرمانی و دو مقام دومی بدست اورده انتهای پیام انتهای پیام\n"
     ]
    }
   ],
   "source": [
    "i = 0\n",
    "print(list(content.values())[i])\n",
    "txt = normalizer(list(content.values())[i])\n",
    "print(txt)"
   ]
  },
  {
   "cell_type": "markdown",
   "metadata": {},
   "source": [
    "## Tokenizer"
   ]
  },
  {
   "cell_type": "code",
   "execution_count": 20,
   "metadata": {},
   "outputs": [],
   "source": [
    "def tokenizer(string):\n",
    "    string = normalizer(string)\n",
    "    tokens = re.split(r'\\s+', string)\n",
    "    # The \\s (lowercase s ) matches a whitespace (blank, tab \\t , and newline \\r or \\n )\n",
    "    return tokens"
   ]
  },
  {
   "cell_type": "code",
   "execution_count": 21,
   "metadata": {},
   "outputs": [
    {
     "name": "stdout",
     "output_type": "stream",
     "text": [
      "\n",
      "به گزارش خبرگزاری فارس، کنفدراسیون فوتبال آسیا (AFC) در نامه ای رسمی به فدراسیون فوتبال ایران و باشگاه گیتی پسند زمان  قرعه کشی جام باشگاه های فوتسال آسیا را رسماً اعلام کرد. بر این اساس 25 فروردین ماه 1401 مراسم قرعه کشی جام باشگاه های فوتسال آسیا در مالزی برگزار می شود. باشگاه گیتی پسند بعنوان قهرمان فوتسال ایران در سال 1400 به این مسابقات راه پیدا کرده است. پیش از این گیتی پسند تجربه 3 دوره حضور در جام باشگاه های فوتسال آسیا را داشته که هر سه دوره به فینال مسابقات راه پیدا کرده و یک عنوان قهرمانی و دو مقام دومی بدست آورده است. انتهای پیام/\n",
      "\n",
      "\n",
      "\n",
      "\n",
      "به\n",
      "گزارش\n",
      "خبرگزاری\n",
      "فارس\n",
      "کنفدراسیون\n",
      "فوتبال\n",
      "اسیا\n",
      "AFC\n",
      "در\n",
      "نامه\n",
      "رسمی\n",
      "به\n",
      "فدراسیون\n",
      "فوتبال\n",
      "ایران\n",
      "و\n",
      "باشگاه\n",
      "گیتی\n",
      "پسند\n",
      "زمان\n",
      "قرعه\n",
      "کشید&کش\n",
      "جام\n",
      "باشگاه\n",
      "فوتسال\n",
      "اسیا\n",
      "را\n",
      "رسما\n",
      "اعلام\n",
      "کرد\n",
      "بر\n",
      "این\n",
      "اساس\n",
      "۲۵\n",
      "فروردین\n",
      "ماه\n",
      "۱۴۰۱\n",
      "مراسم\n",
      "قرعه\n",
      "کشید&کش\n",
      "جام\n",
      "باشگاه\n",
      "فوتسال\n",
      "اسیا\n",
      "در\n",
      "مالزی\n",
      "برگزار\n",
      "شد&شو\n",
      "باشگاه\n",
      "گیتی\n",
      "پسند\n",
      "بعنوان\n",
      "قهرمان\n",
      "فوتسال\n",
      "ایران\n",
      "در\n",
      "سال\n",
      "۱۴۰۰\n",
      "به\n",
      "این\n",
      "مسابقات\n",
      "راه\n",
      "پیدا\n",
      "کرده\n",
      "پیش\n",
      "از\n",
      "این\n",
      "گیتی\n",
      "پسند\n",
      "تجربه\n",
      "۳\n",
      "دوره\n",
      "حضور\n",
      "در\n",
      "جام\n",
      "باشگاه\n",
      "فوتسال\n",
      "اسیا\n",
      "را\n",
      "داشته\n",
      "که\n",
      "هر\n",
      "سه\n",
      "دوره\n",
      "به\n",
      "فینال\n",
      "مسابقات\n",
      "راه\n",
      "پیدا\n",
      "کرده\n",
      "و\n",
      "یک\n",
      "عنوان\n",
      "قهرمانی\n",
      "و\n",
      "دو\n",
      "مقام\n",
      "دومی\n",
      "بدست\n",
      "اورده\n",
      "انتهای\n",
      "پیام\n",
      "انتهای\n",
      "پیام\n"
     ]
    }
   ],
   "source": [
    "i = 0\n",
    "print(list(content.values())[i])\n",
    "tokens = tokenizer(list(content.values())[i])\n",
    "print()\n",
    "for i in range (len(tokens)):\n",
    "    print(tokens[i])"
   ]
  }
 ],
 "metadata": {
  "kernelspec": {
   "display_name": "Python 3",
   "language": "python",
   "name": "python3"
  },
  "language_info": {
   "codemirror_mode": {
    "name": "ipython",
    "version": 3
   },
   "file_extension": ".py",
   "mimetype": "text/x-python",
   "name": "python",
   "nbconvert_exporter": "python",
   "pygments_lexer": "ipython3",
   "version": "3.10.6"
  }
 },
 "nbformat": 4,
 "nbformat_minor": 2
}
