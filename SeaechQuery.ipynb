{
 "cells": [
  {
   "cell_type": "code",
   "execution_count": 3,
   "metadata": {},
   "outputs": [
    {
     "name": "stdout",
     "output_type": "stream",
     "text": [
      "Requirement already satisfied: import_ipynb in c:\\users\\behes\\appdata\\local\\programs\\python\\python310\\lib\\site-packages (0.2)\n",
      "Requirement already satisfied: IPython in c:\\users\\behes\\appdata\\local\\programs\\python\\python310\\lib\\site-packages (from import_ipynb) (8.4.0)\n",
      "Requirement already satisfied: nbformat in c:\\users\\behes\\appdata\\local\\programs\\python\\python310\\lib\\site-packages (from import_ipynb) (5.10.4)\n",
      "Requirement already satisfied: pickleshare in c:\\users\\behes\\appdata\\local\\programs\\python\\python310\\lib\\site-packages (from IPython->import_ipynb) (0.7.5)\n",
      "Requirement already satisfied: backcall in c:\\users\\behes\\appdata\\local\\programs\\python\\python310\\lib\\site-packages (from IPython->import_ipynb) (0.2.0)\n",
      "Requirement already satisfied: colorama in c:\\users\\behes\\appdata\\local\\programs\\python\\python310\\lib\\site-packages (from IPython->import_ipynb) (0.4.5)\n",
      "Requirement already satisfied: matplotlib-inline in c:\\users\\behes\\appdata\\local\\programs\\python\\python310\\lib\\site-packages (from IPython->import_ipynb) (0.1.3)\n",
      "Requirement already satisfied: jedi>=0.16 in c:\\users\\behes\\appdata\\local\\programs\\python\\python310\\lib\\site-packages (from IPython->import_ipynb) (0.18.1)\n",
      "Requirement already satisfied: prompt-toolkit!=3.0.0,!=3.0.1,<3.1.0,>=2.0.0 in c:\\users\\behes\\appdata\\local\\programs\\python\\python310\\lib\\site-packages (from IPython->import_ipynb) (3.0.30)\n",
      "Requirement already satisfied: stack-data in c:\\users\\behes\\appdata\\local\\programs\\python\\python310\\lib\\site-packages (from IPython->import_ipynb) (0.3.0)\n",
      "Requirement already satisfied: pygments>=2.4.0 in c:\\users\\behes\\appdata\\local\\programs\\python\\python310\\lib\\site-packages (from IPython->import_ipynb) (2.18.0)\n",
      "Requirement already satisfied: traitlets>=5 in c:\\users\\behes\\appdata\\local\\programs\\python\\python310\\lib\\site-packages (from IPython->import_ipynb) (5.3.0)\n",
      "Requirement already satisfied: setuptools>=18.5 in c:\\users\\behes\\appdata\\local\\programs\\python\\python310\\lib\\site-packages (from IPython->import_ipynb) (70.2.0)\n",
      "Requirement already satisfied: decorator in c:\\users\\behes\\appdata\\local\\programs\\python\\python310\\lib\\site-packages (from IPython->import_ipynb) (5.1.1)\n",
      "Requirement already satisfied: jupyter-core!=5.0.*,>=4.12 in c:\\users\\behes\\appdata\\local\\programs\\python\\python310\\lib\\site-packages (from nbformat->import_ipynb) (5.7.2)\n",
      "Requirement already satisfied: jsonschema>=2.6 in c:\\users\\behes\\appdata\\local\\programs\\python\\python310\\lib\\site-packages (from nbformat->import_ipynb) (4.23.0)\n",
      "Requirement already satisfied: fastjsonschema>=2.15 in c:\\users\\behes\\appdata\\local\\programs\\python\\python310\\lib\\site-packages (from nbformat->import_ipynb) (2.21.1)\n",
      "Requirement already satisfied: parso<0.9.0,>=0.8.0 in c:\\users\\behes\\appdata\\local\\programs\\python\\python310\\lib\\site-packages (from jedi>=0.16->IPython->import_ipynb) (0.8.3)\n",
      "Requirement already satisfied: rpds-py>=0.7.1 in c:\\users\\behes\\appdata\\local\\programs\\python\\python310\\lib\\site-packages (from jsonschema>=2.6->nbformat->import_ipynb) (0.22.3)\n",
      "Requirement already satisfied: jsonschema-specifications>=2023.03.6 in c:\\users\\behes\\appdata\\local\\programs\\python\\python310\\lib\\site-packages (from jsonschema>=2.6->nbformat->import_ipynb) (2024.10.1)\n",
      "Requirement already satisfied: attrs>=22.2.0 in c:\\users\\behes\\appdata\\local\\programs\\python\\python310\\lib\\site-packages (from jsonschema>=2.6->nbformat->import_ipynb) (24.3.0)\n",
      "Requirement already satisfied: referencing>=0.28.4 in c:\\users\\behes\\appdata\\local\\programs\\python\\python310\\lib\\site-packages (from jsonschema>=2.6->nbformat->import_ipynb) (0.35.1)\n",
      "Requirement already satisfied: platformdirs>=2.5 in c:\\users\\behes\\appdata\\local\\programs\\python\\python310\\lib\\site-packages (from jupyter-core!=5.0.*,>=4.12->nbformat->import_ipynb) (4.2.2)\n",
      "Requirement already satisfied: pywin32>=300 in c:\\users\\behes\\appdata\\local\\programs\\python\\python310\\lib\\site-packages (from jupyter-core!=5.0.*,>=4.12->nbformat->import_ipynb) (304)\n",
      "Requirement already satisfied: wcwidth in c:\\users\\behes\\appdata\\local\\programs\\python\\python310\\lib\\site-packages (from prompt-toolkit!=3.0.0,!=3.0.1,<3.1.0,>=2.0.0->IPython->import_ipynb) (0.2.5)\n",
      "Requirement already satisfied: pure-eval in c:\\users\\behes\\appdata\\local\\programs\\python\\python310\\lib\\site-packages (from stack-data->IPython->import_ipynb) (0.2.2)\n",
      "Requirement already satisfied: executing in c:\\users\\behes\\appdata\\local\\programs\\python\\python310\\lib\\site-packages (from stack-data->IPython->import_ipynb) (0.9.1)\n",
      "Requirement already satisfied: asttokens in c:\\users\\behes\\appdata\\local\\programs\\python\\python310\\lib\\site-packages (from stack-data->IPython->import_ipynb) (2.0.7)\n",
      "Requirement already satisfied: six in c:\\users\\behes\\appdata\\local\\programs\\python\\python310\\lib\\site-packages (from asttokens->stack-data->IPython->import_ipynb) (1.16.0)\n"
     ]
    },
    {
     "name": "stderr",
     "output_type": "stream",
     "text": [
      "\n",
      "[notice] A new release of pip available: 22.2.1 -> 24.3.1\n",
      "[notice] To update, run: python.exe -m pip install --upgrade pip\n"
     ]
    }
   ],
   "source": [
    "import import_ipynb\n",
    "from math import sqrt\n",
    "from heapq import heappop, heappush, heapify\n",
    "from Preprocessing import tokenizer, data, url, title , content\n",
    "from IndexStructure import PostingsList, Posting\n",
    "from Indexing import build_index \n"
   ]
  },
  {
   "cell_type": "code",
   "execution_count": 4,
   "metadata": {},
   "outputs": [],
   "source": [
    "def search_query(query, index, k, use_champion_list=True):\n",
    "    token_query = tokenizer(query)\n",
    "    query_tf = {}\n",
    "    query_norm = 0\n",
    "\n",
    "    for word in token_query:\n",
    "        query_tf[word] = query_tf.get(word, 0) + 1\n",
    "        query_norm += 1\n",
    "\n",
    "    query_norm = sqrt(query_norm)\n",
    "    for word in query_tf:\n",
    "        query_tf[word] /= query_norm\n",
    "\n",
    "    candidate_docs = set()\n",
    "    for word in query_tf:\n",
    "        if use_champion_list:\n",
    "            candidate_docs.update(index.give_champion_list(word))\n",
    "        else:\n",
    "            candidate_docs.update(index.get_list_word(word))\n",
    "\n",
    "    heap = []\n",
    "    heapify(heap)\n",
    "\n",
    "    for doc_id in candidate_docs:\n",
    "        score = sum(index.get_weight(doc_id, word) * query_tf[word] for word in query_tf)\n",
    "        heappush(heap, (score, doc_id))\n",
    "        if len(heap) > k:\n",
    "            heappop(heap)\n",
    "\n",
    "    top_candidates = sorted(heap, reverse=True, key=lambda x: x[0])\n",
    "    \n",
    "    for score, doc_id in top_candidates:\n",
    "        document = list(data.values())[int(doc_id)]\n",
    "        print(f\"Title: {document['title']} | URL: {document['url']}\")\n",
    "    return top_candidates"
   ]
  },
  {
   "cell_type": "code",
   "execution_count": 5,
   "metadata": {},
   "outputs": [
    {
     "name": "stderr",
     "output_type": "stream",
     "text": [
      "Indexing documents: 100%|██████████| 12202/12202 [02:52<00:00, 70.64it/s]\n"
     ]
    }
   ],
   "source": [
    "index = build_index(content)"
   ]
  },
  {
   "cell_type": "code",
   "execution_count": 6,
   "metadata": {},
   "outputs": [
    {
     "name": "stdout",
     "output_type": "stream",
     "text": [
      "Title: نماینده مجلس: سوءتدبیرهای دولت قبل نباید پای دولت سیزدهم نوشته شود | URL: https://www.farsnews.ir/news/14000818000323/نماینده-مجلس-سوءتدبیرهای-دولت-قبل-نباید-پای-دولت-سیزدهم-نوشته-شود\n",
      "Title: وقتی که برای برجام صرف شد ظرفیت‌های اقتصادی کشور را معطل کرد | URL: https://www.farsnews.ir/news/14001203000871/وقتی-که-برای-برجام-صرف-شد-ظرفیت‌های-اقتصادی-کشور-را-معطل-کرد\n",
      "Title: جلسه مجمع باشگاه پرسپولیس لغو شد/مدیرعاملی درویش به تاخیر افتاد | URL: https://www.farsnews.ir/news/14001001000639/جلسه-مجمع-باشگاه-پرسپولیس-لغو-شد-مدیرعاملی-درویش-به-تاخیر-افتاد\n",
      "Title: رئیس جمهور روز دانشجو به دانشگاه شریف می‌رود | URL: https://www.farsnews.ir/news/14000914000507/رئیس-جمهور-روز-دانشجو-به-دانشگاه-شریف-می‌رود\n",
      "Title: بررسی مدل‌های اقتصادی کاهش مصرف انرژی در کمیسیون اقتصادی | URL: https://www.farsnews.ir/news/14000811000978/بررسی-مدل‌های-اقتصادی-کاهش-مصرف-انرژی-در-کمیسیون-اقتصادی\n"
     ]
    }
   ],
   "source": [
    "query = input(\"Enter your query: \")\n",
    "results = search_query(query, index, 5, use_champion_list=False)"
   ]
  }
 ],
 "metadata": {
  "kernelspec": {
   "display_name": "Python 3",
   "language": "python",
   "name": "python3"
  },
  "language_info": {
   "codemirror_mode": {
    "name": "ipython",
    "version": 3
   },
   "file_extension": ".py",
   "mimetype": "text/x-python",
   "name": "python",
   "nbconvert_exporter": "python",
   "pygments_lexer": "ipython3",
   "version": "3.10.6"
  }
 },
 "nbformat": 4,
 "nbformat_minor": 2
}
